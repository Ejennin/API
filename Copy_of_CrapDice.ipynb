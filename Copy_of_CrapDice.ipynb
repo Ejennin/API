{
  "nbformat": 4,
  "nbformat_minor": 0,
  "metadata": {
    "colab": {
      "provenance": [],
      "authorship_tag": "ABX9TyMWGZFXEIjVWJMEx1n0Hf4+",
      "include_colab_link": true
    },
    "kernelspec": {
      "name": "python3",
      "display_name": "Python 3"
    },
    "language_info": {
      "name": "python"
    }
  },
  "cells": [
    {
      "cell_type": "markdown",
      "metadata": {
        "id": "view-in-github",
        "colab_type": "text"
      },
      "source": [
        "<a href=\"https://colab.research.google.com/github/Ejennin/API/blob/main/Copy_of_CrapDice.ipynb\" target=\"_parent\"><img src=\"https://colab.research.google.com/assets/colab-badge.svg\" alt=\"Open In Colab\"/></a>"
      ]
    },
    {
      "cell_type": "code",
      "execution_count": null,
      "metadata": {
        "colab": {
          "base_uri": "https://localhost:8080/"
        },
        "id": "7HyURbBPVzJi",
        "outputId": "58f9e4b5-ec95-435a-d3fc-0e003073f98d"
      },
      "outputs": [
        {
          "output_type": "stream",
          "name": "stdout",
          "text": [
            "Hello world\n"
          ]
        }
      ],
      "source": [
        "print('Hello world')"
      ]
    },
    {
      "cell_type": "code",
      "source": [
        "# prompt: Random pair of dice numbers\n",
        "\n",
        "print('Hello world')\n",
        "import random\n",
        "dice1 = random.randint(1,6)\n",
        "dice2 = random.randint(1,6)\n",
        "print(dice1, dice2)\n"
      ],
      "metadata": {
        "colab": {
          "base_uri": "https://localhost:8080/"
        },
        "id": "U72mxhqoWZGi",
        "outputId": "ac621ee8-6b0d-4c79-ad2d-cd837767329b"
      },
      "execution_count": null,
      "outputs": [
        {
          "output_type": "stream",
          "name": "stdout",
          "text": [
            "Hello world\n",
            "3 3\n"
          ]
        }
      ]
    },
    {
      "cell_type": "markdown",
      "source": [],
      "metadata": {
        "id": "RoeQKCOgXu2Y"
      }
    },
    {
      "cell_type": "markdown",
      "source": [],
      "metadata": {
        "id": "1ot-yOd0aulM"
      }
    },
    {
      "cell_type": "code",
      "source": [
        "# prompt: Create dice crap program with method to roll two dice, method for crap and method to win\n",
        "\n",
        "import random\n",
        "\n",
        "class DiceGame:\n",
        "  def __init__(self):\n",
        "    self.dice1 = 0\n",
        "    self.dice2 = 0\n",
        "\n",
        "  def roll_dice(self):\n",
        "    self.dice1 = random.randint(1, 6)\n",
        "    self.dice2 = random.randint(1, 6)\n",
        "    return self.dice1 + self.dice2\n",
        "\n",
        "  def is_craps(self, roll):\n",
        "    return roll in (2, 3, 12)\n",
        "\n",
        "  def is_win(self, roll):\n",
        "    return roll in (7, 11)\n",
        "# define rolls\n",
        "game = DiceGame()\n",
        "first_roll = game.roll_dice()\n",
        "print(\"First roll:\", first_roll)\n",
        "\n",
        "if game.is_win(first_roll):\n",
        "  print(\"You win!\")\n",
        "elif game.is_craps(first_roll):\n",
        "  print(\"Craps! You lose.\")\n",
        "else:\n",
        "  point = first_roll\n",
        "  print(\"Point is:\", point)\n",
        "  while True:\n",
        "    roll = game.roll_dice()\n",
        "    print(\"Roll:\", roll)\n",
        "    if roll == point:\n",
        "      print(\"You win!\")\n",
        "      break\n",
        "    elif roll == 7:\n",
        "      print(\"You lose.\")\n",
        "      break\n"
      ],
      "metadata": {
        "colab": {
          "base_uri": "https://localhost:8080/"
        },
        "id": "ZBtWjVkkYAM0",
        "outputId": "41fe0715-c9af-4167-ae36-2a73ce97208f"
      },
      "execution_count": null,
      "outputs": [
        {
          "output_type": "stream",
          "name": "stdout",
          "text": [
            "First roll: 8\n",
            "Point is: 8\n",
            "Roll: 8\n",
            "You win!\n"
          ]
        }
      ]
    },
    {
      "cell_type": "code",
      "source": [
        "# prompt: Add comments\n",
        "\n",
        "import random\n",
        "print('Hello world') # print hello world\n",
        "\n",
        "print('Hello world') # print hello world\n",
        "dice1 = random.randint(1,6) # generate a random number between 1 and 6\n",
        "dice2 = random.randint(1,6) # generate a random number between 1 and 6\n",
        "print(dice1, dice2) # print two random numbers\n",
        "\n",
        "#\n",
        "#\n",
        "\n",
        "\n",
        "class DiceGame: # create class DiceGame\n",
        "  def __init__(self): # initialize class\n",
        "    self.dice1 = 0 # set dice1 to 0\n",
        "    self.dice2 = 0 # set dice2 to 0\n",
        "\n",
        "  def roll_dice(self): # define roll_dice function\n",
        "    self.dice1 = random.randint(1, 6) # generate a random number between 1 and 6\n",
        "    self.dice2 = random.randint(1, 6) # generate a random number between 1 and 6\n",
        "    return self.dice1 + self.dice2 # return the sum of two random numbers\n",
        "\n",
        "  def is_craps(self, roll): # define is_craps function\n",
        "    return roll in (2, 3, 12) # return True if roll is 2, 3 or 12\n",
        "\n",
        "  def is_win(self, roll): # define is_win function\n",
        "    return roll in (7, 11) # return True if roll is 7 or 11\n",
        "# define rolls\n",
        "game = DiceGame() # create an instance of DiceGame\n",
        "first_roll = game.roll_dice() # roll the dice\n",
        "print(\"First roll:\", first_roll) # print the first roll\n",
        "\n",
        "if game.is_win(first_roll): # check if the first roll is a win\n",
        "  print(\"You win!\") # print you win\n",
        "elif game.is_craps(first_roll): # check if the first roll is a craps\n",
        "  print(\"Craps! You lose.\") # print you lose\n",
        "else:\n",
        "  point = first_roll # set point to the first roll\n",
        "  print(\"Point is:\", point) # print the point\n",
        "  while True: # loop until break\n",
        "    roll = game.roll_dice() # roll the dice\n",
        "    print(\"Roll:\", roll) # print the roll\n",
        "    if roll == point: # check if the roll is equal to the point\n",
        "      print(\"You win!\") # print you win\n",
        "      break # break the loop\n",
        "    elif roll == 7: # check if the roll is equal to 7\n",
        "      print(\"You lose.\") # print you lose\n",
        "      break # break the loop\n",
        "\n"
      ],
      "metadata": {
        "id": "S76KtQtTYAx5",
        "colab": {
          "base_uri": "https://localhost:8080/"
        },
        "outputId": "7364b08c-92ab-4312-e711-80753beed0a4"
      },
      "execution_count": 1,
      "outputs": [
        {
          "output_type": "stream",
          "name": "stdout",
          "text": [
            "Hello world\n",
            "Hello world\n",
            "4 3\n",
            "First roll: 9\n",
            "Point is: 9\n",
            "Roll: 2\n",
            "Roll: 5\n",
            "Roll: 6\n",
            "Roll: 5\n",
            "Roll: 8\n",
            "Roll: 6\n",
            "Roll: 9\n",
            "You win!\n"
          ]
        }
      ]
    }
  ]
}